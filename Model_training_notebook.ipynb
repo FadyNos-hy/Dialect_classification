{
 "cells": [
  {
   "cell_type": "code",
   "execution_count": null,
   "metadata": {
    "id": "jTwdETEF1nQ_"
   },
   "outputs": [],
   "source": [
    "import pandas as pd\n",
    "import numpy as np\n",
    "import pickle\n",
    "import seaborn as sns\n",
    "from sklearn.feature_extraction.text import TfidfVectorizer\n",
    "from sklearn.svm import SVC\n",
    "from sklearn.pipeline import make_pipeline\n",
    "from sklearn.model_selection import cross_val_score\n",
    "from sklearn.preprocessing import LabelEncoder\n",
    "from keras.preprocessing.text import one_hot\n",
    "from keras.utils import np_utils\n",
    "import tensorflow as tf\n",
    "from tensorflow.keras.callbacks import  ModelCheckpoint,EarlyStopping\n",
    "from sklearn.model_selection import train_test_split\n",
    "from keras.models import model_from_json\n",
    "from tqdm.auto import tqdm\n",
    "from sklearn.base import BaseEstimator, TransformerMixin"
   ]
  },
  {
   "cell_type": "code",
   "execution_count": null,
   "metadata": {
    "id": "4SxNHg9-2Wje"
   },
   "outputs": [],
   "source": [
    "df=pd.read_csv('dialect_with_sentences_pre_processed.csv')"
   ]
  },
  {
   "cell_type": "code",
   "execution_count": null,
   "metadata": {
    "colab": {
     "base_uri": "https://localhost:8080/"
    },
    "id": "wa8NoU8k5eRw",
    "outputId": "9218200e-6ac7-41eb-b899-60b8f48cbf49"
   },
   "outputs": [
    {
     "name": "stdout",
     "output_type": "stream",
     "text": [
      "<class 'pandas.core.frame.DataFrame'>\n",
      "RangeIndex: 458023 entries, 0 to 458022\n",
      "Data columns (total 3 columns):\n",
      " #   Column    Non-Null Count   Dtype \n",
      "---  ------    --------------   ----- \n",
      " 0   id        458023 non-null  int64 \n",
      " 1   dialect   458023 non-null  object\n",
      " 2   sentence  458023 non-null  object\n",
      "dtypes: int64(1), object(2)\n",
      "memory usage: 10.5+ MB\n"
     ]
    }
   ],
   "source": [
    "df.info()"
   ]
  },
  {
   "cell_type": "markdown",
   "metadata": {},
   "source": [
    "## ML algorithm"
   ]
  },
  {
   "cell_type": "code",
   "execution_count": null,
   "metadata": {
    "id": "xLURi2uofCKs"
   },
   "outputs": [],
   "source": [
    "X_scv=df.sentence\n",
    "y_scv=df.dialect"
   ]
  },
  {
   "cell_type": "code",
   "execution_count": null,
   "metadata": {
    "id": "6OknU9C31JsN"
   },
   "outputs": [],
   "source": [
    "X_train_scv, X_test_scv,y_train_scv,  y_test_scv = train_test_split(X_scv,y_scv, test_size=0.1, random_state=42)\n",
    "\n",
    "X_train_scv_sample,__,y_train_scv_sample, _ = train_test_split(X_train_scv,y_train_scv, test_size=0.85, random_state=42)\n"
   ]
  },
  {
   "cell_type": "code",
   "execution_count": null,
   "metadata": {
    "colab": {
     "base_uri": "https://localhost:8080/"
    },
    "id": "aERyZN0knBK0",
    "outputId": "40a1b67a-6f6d-4a41-9f04-377434655d0a"
   },
   "outputs": [
    {
     "data": {
      "text/plain": [
       "Pipeline(steps=[('tfidfvectorizer', TfidfVectorizer()),\n",
       "                ('svc', SVC(random_state=42))])"
      ]
     },
     "execution_count": 36,
     "metadata": {},
     "output_type": "execute_result"
    }
   ],
   "source": [
    "vec = TfidfVectorizer()\n",
    "clf = SVC(random_state=42)\n",
    "pipe = make_pipeline(vec, clf)\n",
    "pipe.fit(X_train_scv_sample,y_train_scv_sample)"
   ]
  },
  {
   "cell_type": "code",
   "execution_count": null,
   "metadata": {
    "colab": {
     "base_uri": "https://localhost:8080/"
    },
    "id": "zB-e-7n22nxv",
    "outputId": "980fd9ae-0862-499c-e6a9-4096efae0db9"
   },
   "outputs": [
    {
     "data": {
      "text/plain": [
       "0.4209549592821431"
      ]
     },
     "execution_count": 37,
     "metadata": {},
     "output_type": "execute_result"
    }
   ],
   "source": [
    "pipe.score( X_test_scv,y_test_scv)"
   ]
  },
  {
   "cell_type": "markdown",
   "metadata": {},
   "source": [
    "### Saving the model"
   ]
  },
  {
   "cell_type": "code",
   "execution_count": null,
   "metadata": {
    "id": "nQpleLwr5eCS"
   },
   "outputs": [],
   "source": [
    "filename = 'SVC_model.sav'\n",
    "pickle.dump(pipe, open(filename, 'wb'))"
   ]
  },
  {
   "cell_type": "markdown",
   "metadata": {},
   "source": [
    "## DL Algorithm"
   ]
  },
  {
   "cell_type": "code",
   "execution_count": null,
   "metadata": {
    "id": "dfjX7A0I3uMd"
   },
   "outputs": [],
   "source": [
    "X=df.sentence\n",
    "y=df.dialect"
   ]
  },
  {
   "cell_type": "code",
   "execution_count": null,
   "metadata": {
    "colab": {
     "base_uri": "https://localhost:8080/"
    },
    "id": "OyVuGmix6ZeU",
    "outputId": "b9979f5c-8bf3-43b4-9767-48d692973238"
   },
   "outputs": [
    {
     "data": {
      "text/plain": [
       "EG    57621\n",
       "PL    43731\n",
       "KW    42104\n",
       "LY    36476\n",
       "QA    31064\n",
       "JO    27900\n",
       "LB    27615\n",
       "SA    26831\n",
       "AE    26293\n",
       "BH    26287\n",
       "OM    19111\n",
       "SY    16234\n",
       "DZ    16179\n",
       "IQ    15491\n",
       "SD    14389\n",
       "MA    11538\n",
       "YE     9915\n",
       "TN     9244\n",
       "Name: dialect, dtype: int64"
      ]
     },
     "execution_count": 6,
     "metadata": {},
     "output_type": "execute_result"
    }
   ],
   "source": [
    "y.value_counts()"
   ]
  },
  {
   "cell_type": "markdown",
   "metadata": {},
   "source": [
    "### Get how many is the vocab size"
   ]
  },
  {
   "cell_type": "code",
   "execution_count": null,
   "metadata": {
    "colab": {
     "base_uri": "https://localhost:8080/"
    },
    "id": "rHY2kmXvL5ii",
    "outputId": "8b631506-47d4-4834-a10f-0fa3aaed09c7"
   },
   "outputs": [
    {
     "data": {
      "text/plain": [
       "464805"
      ]
     },
     "execution_count": 7,
     "metadata": {},
     "output_type": "execute_result"
    }
   ],
   "source": [
    "l=[]\n",
    "for x in X.str.split():\n",
    "    l.extend(x)\n",
    "result=list(set(l))\n",
    "vocab_size=len(result)\n",
    "vocab_size"
   ]
  },
  {
   "cell_type": "markdown",
   "metadata": {},
   "source": [
    "### Get the distribution of sentences length to decide the maximum length of the sentence"
   ]
  },
  {
   "cell_type": "code",
   "execution_count": null,
   "metadata": {
    "colab": {
     "base_uri": "https://localhost:8080/",
     "height": 388
    },
    "id": "YfLZ1NTMXVRS",
    "outputId": "9c1effbb-8309-4c21-9d09-3375244ef394"
   },
   "outputs": [
    {
     "data": {
      "text/plain": [
       "<seaborn.axisgrid.FacetGrid at 0x7f91bf52e3d0>"
      ]
     },
     "execution_count": 9,
     "metadata": {},
     "output_type": "execute_result"
    },
    {
     "data": {
      "image/png": "[encoded data removed]",
      "text/plain": [
       "<Figure size 360x360 with 1 Axes>"
      ]
     },
     "metadata": {
      "needs_background": "light"
     },
     "output_type": "display_data"
    }
   ],
   "source": [
    "sns.displot(X.str.split().apply(len))"
   ]
  },
  {
   "cell_type": "code",
   "execution_count": null,
   "metadata": {
    "id": "01auCCjJacvj"
   },
   "outputs": [],
   "source": [
    "max_sequence_len=60"
   ]
  },
  {
   "cell_type": "markdown",
   "metadata": {},
   "source": [
    "### Encode the vocab, every word has its own id "
   ]
  },
  {
   "cell_type": "code",
   "execution_count": null,
   "metadata": {
    "id": "Ez1ILmPtgAQz"
   },
   "outputs": [],
   "source": [
    "encoded_x = [one_hot(d, vocab_size) for d in X]"
   ]
  },
  {
   "cell_type": "code",
   "execution_count": null,
   "metadata": {
    "colab": {
     "base_uri": "https://localhost:8080/"
    },
    "id": "xyYqVb9p5PIx",
    "outputId": "cd93a7fe-6c89-4003-8b50-38bcd3806fce"
   },
   "outputs": [
    {
     "data": {
      "text/plain": [
       "[[12296, 237536, 137366, 156900],\n",
       " [443921,\n",
       "  23178,\n",
       "  269530,\n",
       "  11990,\n",
       "  6499,\n",
       "  49122,\n",
       "  100736,\n",
       "  29662,\n",
       "  103121,\n",
       "  97590,\n",
       "  247637,\n",
       "  162947,\n",
       "  452562,\n",
       "  296619,\n",
       "  283545],\n",
       " [66435, 103121, 211919, 65347]]"
      ]
     },
     "execution_count": 12,
     "metadata": {},
     "output_type": "execute_result"
    }
   ],
   "source": [
    "encoded_x[:3]"
   ]
  },
  {
   "cell_type": "code",
   "execution_count": null,
   "metadata": {
    "colab": {
     "base_uri": "https://localhost:8080/"
    },
    "id": "Z2jAfpAwIYSh",
    "outputId": "719cd584-5501-48b6-e77e-9f10c39421f9"
   },
   "outputs": [
    {
     "data": {
      "text/plain": [
       "[12296]"
      ]
     },
     "execution_count": 13,
     "metadata": {},
     "output_type": "execute_result"
    }
   ],
   "source": [
    "one_hot('لكن',vocab_size,)"
   ]
  },
  {
   "cell_type": "markdown",
   "metadata": {},
   "source": [
    "### Saving a dataset of word and their corresponding ids to be used later in deployment."
   ]
  },
  {
   "cell_type": "code",
   "execution_count": null,
   "metadata": {
    "id": "nQeGEVm1IYVi"
   },
   "outputs": [],
   "source": [
    "ids= [i for d in result for i in one_hot(d, len(result))]\n",
    "idToWord=pd.DataFrame({'id':ids,\"word\":result})\n",
    "idToWord.to_csv('idToWord.csv',index=False)"
   ]
  },
  {
   "cell_type": "markdown",
   "metadata": {},
   "source": [
    "### Padding all the sentences whose length are less than the maximum sequence length"
   ]
  },
  {
   "cell_type": "code",
   "execution_count": null,
   "metadata": {
    "id": "iaC6Bm93XUJv"
   },
   "outputs": [],
   "source": [
    "X_padded = np.zeros((X.shape[0], max_sequence_len))\n",
    "for i, sent in enumerate(encoded_x):\n",
    "    X_padded[i, :len(sent)] = sent[:max_sequence_len]"
   ]
  },
  {
   "cell_type": "code",
   "execution_count": null,
   "metadata": {
    "colab": {
     "base_uri": "https://localhost:8080/"
    },
    "id": "Mjgo2lPdhI3u",
    "outputId": "83beb8f9-fcfa-4a1c-b17d-c4e49fc55af1"
   },
   "outputs": [
    {
     "data": {
      "text/plain": [
       "array([[ 12296., 237536., 137366., 156900.,      0.,      0.,      0.,\n",
       "             0.,      0.,      0.,      0.,      0.,      0.,      0.,\n",
       "             0.,      0.,      0.,      0.,      0.,      0.,      0.,\n",
       "             0.,      0.,      0.,      0.,      0.,      0.,      0.,\n",
       "             0.,      0.,      0.,      0.,      0.,      0.,      0.,\n",
       "             0.,      0.,      0.,      0.,      0.,      0.,      0.,\n",
       "             0.,      0.,      0.,      0.,      0.,      0.,      0.,\n",
       "             0.,      0.,      0.,      0.,      0.,      0.,      0.,\n",
       "             0.,      0.,      0.,      0.],\n",
       "       [443921.,  23178., 269530.,  11990.,   6499.,  49122., 100736.,\n",
       "         29662., 103121.,  97590., 247637., 162947., 452562., 296619.,\n",
       "        283545.,      0.,      0.,      0.,      0.,      0.,      0.,\n",
       "             0.,      0.,      0.,      0.,      0.,      0.,      0.,\n",
       "             0.,      0.,      0.,      0.,      0.,      0.,      0.,\n",
       "             0.,      0.,      0.,      0.,      0.,      0.,      0.,\n",
       "             0.,      0.,      0.,      0.,      0.,      0.,      0.,\n",
       "             0.,      0.,      0.,      0.,      0.,      0.,      0.,\n",
       "             0.,      0.,      0.,      0.],\n",
       "       [ 66435., 103121., 211919.,  65347.,      0.,      0.,      0.,\n",
       "             0.,      0.,      0.,      0.,      0.,      0.,      0.,\n",
       "             0.,      0.,      0.,      0.,      0.,      0.,      0.,\n",
       "             0.,      0.,      0.,      0.,      0.,      0.,      0.,\n",
       "             0.,      0.,      0.,      0.,      0.,      0.,      0.,\n",
       "             0.,      0.,      0.,      0.,      0.,      0.,      0.,\n",
       "             0.,      0.,      0.,      0.,      0.,      0.,      0.,\n",
       "             0.,      0.,      0.,      0.,      0.,      0.,      0.,\n",
       "             0.,      0.,      0.,      0.]])"
      ]
     },
     "execution_count": 16,
     "metadata": {},
     "output_type": "execute_result"
    }
   ],
   "source": [
    "X_padded[:3]"
   ]
  },
  {
   "cell_type": "markdown",
   "metadata": {},
   "source": [
    "### One hot encoding the target"
   ]
  },
  {
   "cell_type": "code",
   "execution_count": null,
   "metadata": {
    "id": "MFs5Xl82NSoF"
   },
   "outputs": [],
   "source": [
    "encoder = LabelEncoder()\n",
    "encoder.fit(y)\n",
    "encoded_y = encoder.transform(y)\n",
    "dummy_y = np_utils.to_categorical(encoded_y)"
   ]
  },
  {
   "cell_type": "code",
   "execution_count": null,
   "metadata": {
    "colab": {
     "base_uri": "https://localhost:8080/"
    },
    "id": "SPl435fg7ef4",
    "outputId": "0de7a81b-d0a9-4417-85d9-2ec5ac6dc06b"
   },
   "outputs": [
    {
     "data": {
      "text/plain": [
       "3     57621\n",
       "11    43731\n",
       "6     42104\n",
       "8     36476\n",
       "12    31064\n",
       "5     27900\n",
       "7     27615\n",
       "13    26831\n",
       "0     26293\n",
       "1     26287\n",
       "10    19111\n",
       "15    16234\n",
       "2     16179\n",
       "4     15491\n",
       "14    14389\n",
       "9     11538\n",
       "17     9915\n",
       "16     9244\n",
       "dtype: int64"
      ]
     },
     "execution_count": 18,
     "metadata": {},
     "output_type": "execute_result"
    }
   ],
   "source": [
    "pd.Series(encoded_y).value_counts()"
   ]
  },
  {
   "cell_type": "markdown",
   "metadata": {},
   "source": [
    "### Defining the architecture of the DL and adding an Embedding layer to customize an embedding for this use case."
   ]
  },
  {
   "cell_type": "code",
   "execution_count": null,
   "metadata": {
    "id": "KTG00Y0RUimV"
   },
   "outputs": [],
   "source": [
    "model_bi = tf.keras.models.Sequential([    \n",
    "    tf.keras.layers.Embedding(vocab_size,64,input_length=max_sequence_len),\n",
    "    tf.keras.layers.Bidirectional(tf.keras.layers.LSTM(64, return_sequences=True)),\n",
    "    tf.keras.layers.Bidirectional(tf.keras.layers.LSTM(64)),\n",
    "    tf.keras.layers.Dense(64, activation='relu'),\n",
    "    tf.keras.layers.Dense(18, activation='softmax')\n",
    "])"
   ]
  },
  {
   "cell_type": "code",
   "execution_count": null,
   "metadata": {
    "id": "vJK1yBCtq0dr"
   },
   "outputs": [],
   "source": [
    "chkpt = ModelCheckpoint(\"model_weights.h5\", monitor='val_loss',verbose=1, save_best_only=True, save_weights_only=True, mode='min')\n",
    "\n",
    "early_stopping = EarlyStopping(monitor='val_accuracy', min_delta=0, patience=1, verbose=0, mode='max', baseline=None, restore_best_weights=False)\n",
    "callbacks = [ chkpt, early_stopping]"
   ]
  },
  {
   "cell_type": "code",
   "execution_count": null,
   "metadata": {
    "id": "hVVZ67hGVFVw"
   },
   "outputs": [],
   "source": [
    "model_bi.compile(loss='categorical_crossentropy', optimizer='adam', metrics=['accuracy',tf.keras.metrics.AUC(\n",
    "    num_thresholds=200,\n",
    "    curve=\"ROC\",\n",
    "    summation_method=\"interpolation\")])"
   ]
  },
  {
   "cell_type": "code",
   "execution_count": null,
   "metadata": {
    "id": "49tXdsrPtRSi"
   },
   "outputs": [],
   "source": [
    "X_train, X_test,y_train,  y_test = train_test_split(X_padded, dummy_y, test_size=0.1, random_state=42)\n"
   ]
  },
  {
   "cell_type": "code",
   "execution_count": null,
   "metadata": {
    "colab": {
     "base_uri": "https://localhost:8080/"
    },
    "id": "j6jQo0mfr6OH",
    "outputId": "2153932d-0a01-4955-ad4f-fb85f884ef1c"
   },
   "outputs": [
    {
     "data": {
      "text/plain": [
       "(412220, 60)"
      ]
     },
     "execution_count": 23,
     "metadata": {},
     "output_type": "execute_result"
    }
   ],
   "source": [
    "X_train.shape"
   ]
  },
  {
   "cell_type": "code",
   "execution_count": null,
   "metadata": {
    "colab": {
     "base_uri": "https://localhost:8080/"
    },
    "id": "921sip8fr8MR",
    "outputId": "4fcfceb2-3487-42f1-eb80-7bc87a3cc3ad"
   },
   "outputs": [
    {
     "data": {
      "text/plain": [
       "(412220, 18)"
      ]
     },
     "execution_count": 24,
     "metadata": {},
     "output_type": "execute_result"
    }
   ],
   "source": [
    "y_train.shape"
   ]
  },
  {
   "cell_type": "code",
   "execution_count": null,
   "metadata": {
    "colab": {
     "base_uri": "https://localhost:8080/"
    },
    "id": "yxvnF9tTry7I",
    "outputId": "70116cce-4396-422c-9117-26e80fb6e8fd"
   },
   "outputs": [
    {
     "name": "stdout",
     "output_type": "stream",
     "text": [
      "Epoch 1/3\n",
      "2577/2577 [==============================] - ETA: 0s - loss: 1.9702 - accuracy: 0.3702 - auc: 0.8590\n",
      "Epoch 1: val_loss improved from inf to 1.67260, saving model to model_weights.h5\n",
      "2577/2577 [==============================] - 218s 80ms/step - loss: 1.9702 - accuracy: 0.3702 - auc: 0.8590 - val_loss: 1.6726 - val_accuracy: 0.4706 - val_auc: 0.9021\n",
      "Epoch 2/3\n",
      "2577/2577 [==============================] - ETA: 0s - loss: 1.3023 - accuracy: 0.5896 - auc: 0.9415\n",
      "Epoch 2: val_loss improved from 1.67260 to 1.60127, saving model to model_weights.h5\n",
      "2577/2577 [==============================] - 202s 79ms/step - loss: 1.3023 - accuracy: 0.5896 - auc: 0.9415 - val_loss: 1.6013 - val_accuracy: 0.5037 - val_auc: 0.9098\n",
      "Epoch 3/3\n",
      "2577/2577 [==============================] - ETA: 0s - loss: 0.8587 - accuracy: 0.7360 - auc: 0.9727\n",
      "Epoch 3: val_loss did not improve from 1.60127\n",
      "2577/2577 [==============================] - 202s 78ms/step - loss: 0.8587 - accuracy: 0.7360 - auc: 0.9727 - val_loss: 1.7846 - val_accuracy: 0.4929 - val_auc: 0.8936\n"
     ]
    },
    {
     "data": {
      "text/plain": [
       "<keras.callbacks.History at 0x7f90fd5f5c10>"
      ]
     },
     "execution_count": 25,
     "metadata": {},
     "output_type": "execute_result"
    }
   ],
   "source": [
    "model_bi.fit(X_train, y_train, epochs=3, batch_size=128,validation_split=0.2,callbacks=callbacks)\n"
   ]
  },
  {
   "cell_type": "code",
   "execution_count": null,
   "metadata": {
    "id": "m0P0fqZnbUJP"
   },
   "outputs": [],
   "source": [
    "model_json = model_bi.to_json()\n",
    "with open(\"model.json\", \"w\") as json_file:\n",
    "    json_file.write(model_json)"
   ]
  },
  {
   "cell_type": "code",
   "execution_count": null,
   "metadata": {
    "colab": {
     "base_uri": "https://localhost:8080/"
    },
    "id": "sBbvjYN6cCi9",
    "outputId": "841f6788-644b-4f20-9389-0ab36c53ff80"
   },
   "outputs": [
    {
     "name": "stdout",
     "output_type": "stream",
     "text": [
      "Loaded model from disk\n"
     ]
    }
   ],
   "source": [
    "json_file = open('model.json', 'r')\n",
    "loaded_model_json = json_file.read()\n",
    "json_file.close()\n",
    "loaded_model = model_from_json(loaded_model_json)\n",
    "# load weights into new model\n",
    "loaded_model.load_weights(\"model_weights.h5\")\n",
    "print(\"Loaded model from disk\")"
   ]
  },
  {
   "cell_type": "code",
   "execution_count": null,
   "metadata": {
    "colab": {
     "base_uri": "https://localhost:8080/"
    },
    "id": "iAc_emIdetd-",
    "outputId": "2e9ac8cd-5d0f-4440-c2ff-d7d10de27175"
   },
   "outputs": [
    {
     "name": "stdout",
     "output_type": "stream",
     "text": [
      "1432/1432 [==============================] - 42s 26ms/step - loss: 1.6004 - accuracy: 0.5045 - auc_1: 0.9098\n"
     ]
    },
    {
     "data": {
      "text/plain": [
       "[1.6004271507263184, 0.5045084357261658, 0.9098253846168518]"
      ]
     },
     "execution_count": 32,
     "metadata": {},
     "output_type": "execute_result"
    }
   ],
   "source": [
    "loaded_model.compile(loss='categorical_crossentropy', optimizer='adam', metrics=['accuracy',tf.keras.metrics.AUC(\n",
    "    num_thresholds=200,\n",
    "    curve=\"ROC\",\n",
    "    summation_method=\"interpolation\")])\n",
    "loaded_model.evaluate(X_test, y_test)"
   ]
  },
  {
   "cell_type": "code",
   "execution_count": null,
   "metadata": {
    "id": "qhrVjXpcaE6n"
   },
   "outputs": [],
   "source": []
  }
 ],
 "metadata": {
  "accelerator": "GPU",
  "colab": {
   "collapsed_sections": [],
   "name": "Model training notebook with svc.ipynb",
   "provenance": []
  },
  "kernelspec": {
   "display_name": "Python 3 (ipykernel)",
   "language": "python",
   "name": "python3"
  },
  "language_info": {
   "codemirror_mode": {
    "name": "ipython",
    "version": 3
   },
   "file_extension": ".py",
   "mimetype": "text/x-python",
   "name": "python",
   "nbconvert_exporter": "python",
   "pygments_lexer": "ipython3",
   "version": "3.8.8"
  }
 },
 "nbformat": 4,
 "nbformat_minor": 1
}
