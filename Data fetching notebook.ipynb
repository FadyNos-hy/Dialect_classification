{
 "cells": [
  {
   "cell_type": "code",
   "execution_count": 1,
   "id": "41b3b1df",
   "metadata": {},
   "outputs": [],
   "source": [
    "import requests\n",
    "import pandas as pd"
   ]
  },
  {
   "cell_type": "code",
   "execution_count": 2,
   "id": "d5095943",
   "metadata": {},
   "outputs": [],
   "source": [
    "df= pd.read_csv('dialect_dataset.csv')"
   ]
  },
  {
   "cell_type": "code",
   "execution_count": 3,
   "id": "ce2c4c87",
   "metadata": {},
   "outputs": [
    {
     "data": {
      "text/html": [
       "<div>\n",
       "<style scoped>\n",
       "    .dataframe tbody tr th:only-of-type {\n",
       "        vertical-align: middle;\n",
       "    }\n",
       "\n",
       "    .dataframe tbody tr th {\n",
       "        vertical-align: top;\n",
       "    }\n",
       "\n",
       "    .dataframe thead th {\n",
       "        text-align: right;\n",
       "    }\n",
       "</style>\n",
       "<table border=\"1\" class=\"dataframe\">\n",
       "  <thead>\n",
       "    <tr style=\"text-align: right;\">\n",
       "      <th></th>\n",
       "      <th>id</th>\n",
       "      <th>dialect</th>\n",
       "    </tr>\n",
       "  </thead>\n",
       "  <tbody>\n",
       "    <tr>\n",
       "      <th>0</th>\n",
       "      <td>1175358310087892992</td>\n",
       "      <td>IQ</td>\n",
       "    </tr>\n",
       "    <tr>\n",
       "      <th>1</th>\n",
       "      <td>1175416117793349632</td>\n",
       "      <td>IQ</td>\n",
       "    </tr>\n",
       "    <tr>\n",
       "      <th>2</th>\n",
       "      <td>1175450108898565888</td>\n",
       "      <td>IQ</td>\n",
       "    </tr>\n",
       "    <tr>\n",
       "      <th>3</th>\n",
       "      <td>1175471073770573824</td>\n",
       "      <td>IQ</td>\n",
       "    </tr>\n",
       "    <tr>\n",
       "      <th>4</th>\n",
       "      <td>1175496913145217024</td>\n",
       "      <td>IQ</td>\n",
       "    </tr>\n",
       "  </tbody>\n",
       "</table>\n",
       "</div>"
      ],
      "text/plain": [
       "                    id dialect\n",
       "0  1175358310087892992      IQ\n",
       "1  1175416117793349632      IQ\n",
       "2  1175450108898565888      IQ\n",
       "3  1175471073770573824      IQ\n",
       "4  1175496913145217024      IQ"
      ]
     },
     "execution_count": 3,
     "metadata": {},
     "output_type": "execute_result"
    }
   ],
   "source": [
    "df.head()"
   ]
  },
  {
   "cell_type": "code",
   "execution_count": 4,
   "id": "6ec56aeb",
   "metadata": {},
   "outputs": [
    {
     "name": "stdout",
     "output_type": "stream",
     "text": [
      "<class 'pandas.core.frame.DataFrame'>\n",
      "RangeIndex: 458197 entries, 0 to 458196\n",
      "Data columns (total 2 columns):\n",
      " #   Column   Non-Null Count   Dtype \n",
      "---  ------   --------------   ----- \n",
      " 0   id       458197 non-null  int64 \n",
      " 1   dialect  458197 non-null  object\n",
      "dtypes: int64(1), object(1)\n",
      "memory usage: 7.0+ MB\n"
     ]
    }
   ],
   "source": [
    "df.info()"
   ]
  },
  {
   "cell_type": "code",
   "execution_count": 9,
   "id": "47dd8bd8",
   "metadata": {},
   "outputs": [],
   "source": [
    "re=[\n",
    "\"1055620304465215616\", \"1057418989293485952\"\n",
    "]"
   ]
  },
  {
   "cell_type": "code",
   "execution_count": 10,
   "id": "64be7316",
   "metadata": {},
   "outputs": [],
   "source": [
    "response=requests.post('https://recruitment.aimtechnologies.co/ai-tasks',json=re)"
   ]
  },
  {
   "cell_type": "code",
   "execution_count": 11,
   "id": "6366a2b6",
   "metadata": {},
   "outputs": [
    {
     "data": {
      "text/plain": [
       "{'1055620304465215616': '@MahmoudWaked7 @maganenoo في طريق مطروح مركز بهيج  والمركز الي الي جمبه اسمه ايه😂😂',\n",
       " '1057418989293485952': '@mycousinvinnyys @hanyamikhail1 متهيالي دي شكولاته الهالوين  فين المحل ده'}"
      ]
     },
     "execution_count": 11,
     "metadata": {},
     "output_type": "execute_result"
    }
   ],
   "source": [
    "response.json()"
   ]
  },
  {
   "cell_type": "code",
   "execution_count": 12,
   "id": "3c9b0b3a",
   "metadata": {},
   "outputs": [],
   "source": [
    "def getResponse(ids):\n",
    "    response=requests.post('https://recruitment.aimtechnologies.co/ai-tasks',json=list(map(str, ids)))\n",
    "    return map(str,response.json().values())"
   ]
  },
  {
   "cell_type": "code",
   "execution_count": 15,
   "id": "bd913fd1",
   "metadata": {},
   "outputs": [],
   "source": [
    "listOfSentences=[]\n",
    "for i in range(0,len(df),1000):\n",
    "    if len(df)-i >1000:\n",
    "        listOfSentences.extend(getResponse(df.id[i:i+1000]))\n",
    "    else:\n",
    "        listOfSentences.extend(getResponse(df.id[i:]))    "
   ]
  },
  {
   "cell_type": "code",
   "execution_count": 16,
   "id": "64aeea59",
   "metadata": {},
   "outputs": [
    {
     "data": {
      "text/plain": [
       "458197"
      ]
     },
     "execution_count": 16,
     "metadata": {},
     "output_type": "execute_result"
    }
   ],
   "source": [
    "len(listOfSentences)"
   ]
  },
  {
   "cell_type": "code",
   "execution_count": 17,
   "id": "deb6a942",
   "metadata": {},
   "outputs": [],
   "source": [
    "df['sentence']=listOfSentences"
   ]
  },
  {
   "cell_type": "code",
   "execution_count": 18,
   "id": "3a1a5966",
   "metadata": {},
   "outputs": [
    {
     "data": {
      "text/html": [
       "<div>\n",
       "<style scoped>\n",
       "    .dataframe tbody tr th:only-of-type {\n",
       "        vertical-align: middle;\n",
       "    }\n",
       "\n",
       "    .dataframe tbody tr th {\n",
       "        vertical-align: top;\n",
       "    }\n",
       "\n",
       "    .dataframe thead th {\n",
       "        text-align: right;\n",
       "    }\n",
       "</style>\n",
       "<table border=\"1\" class=\"dataframe\">\n",
       "  <thead>\n",
       "    <tr style=\"text-align: right;\">\n",
       "      <th></th>\n",
       "      <th>id</th>\n",
       "      <th>dialect</th>\n",
       "      <th>sentence</th>\n",
       "    </tr>\n",
       "  </thead>\n",
       "  <tbody>\n",
       "    <tr>\n",
       "      <th>0</th>\n",
       "      <td>1175358310087892992</td>\n",
       "      <td>IQ</td>\n",
       "      <td>@Nw8ieJUwaCAAreT لكن بالنهاية .. ينتفض .. يغير .</td>\n",
       "    </tr>\n",
       "    <tr>\n",
       "      <th>1</th>\n",
       "      <td>1175416117793349632</td>\n",
       "      <td>IQ</td>\n",
       "      <td>@7zNqXP0yrODdRjK يعني هذا محسوب على البشر .. ح...</td>\n",
       "    </tr>\n",
       "    <tr>\n",
       "      <th>2</th>\n",
       "      <td>1175450108898565888</td>\n",
       "      <td>IQ</td>\n",
       "      <td>@KanaanRema مبين من كلامه خليجي</td>\n",
       "    </tr>\n",
       "    <tr>\n",
       "      <th>3</th>\n",
       "      <td>1175471073770573824</td>\n",
       "      <td>IQ</td>\n",
       "      <td>@HAIDER76128900 يسلملي مرورك وروحك الحلوه💐</td>\n",
       "    </tr>\n",
       "    <tr>\n",
       "      <th>4</th>\n",
       "      <td>1175496913145217024</td>\n",
       "      <td>IQ</td>\n",
       "      <td>@hmo2406 وين هل الغيبه  اخ محمد 🌸🌺</td>\n",
       "    </tr>\n",
       "  </tbody>\n",
       "</table>\n",
       "</div>"
      ],
      "text/plain": [
       "                    id dialect  \\\n",
       "0  1175358310087892992      IQ   \n",
       "1  1175416117793349632      IQ   \n",
       "2  1175450108898565888      IQ   \n",
       "3  1175471073770573824      IQ   \n",
       "4  1175496913145217024      IQ   \n",
       "\n",
       "                                            sentence  \n",
       "0   @Nw8ieJUwaCAAreT لكن بالنهاية .. ينتفض .. يغير .  \n",
       "1  @7zNqXP0yrODdRjK يعني هذا محسوب على البشر .. ح...  \n",
       "2                    @KanaanRema مبين من كلامه خليجي  \n",
       "3         @HAIDER76128900 يسلملي مرورك وروحك الحلوه💐  \n",
       "4                 @hmo2406 وين هل الغيبه  اخ محمد 🌸🌺  "
      ]
     },
     "execution_count": 18,
     "metadata": {},
     "output_type": "execute_result"
    }
   ],
   "source": [
    "df.head()"
   ]
  },
  {
   "cell_type": "markdown",
   "id": "4802c2be",
   "metadata": {},
   "source": [
    "### To make sure we get it right , We are going to get a sample and make sure that the ids have the right corresponding sentences"
   ]
  },
  {
   "cell_type": "code",
   "execution_count": 22,
   "id": "679c6a70",
   "metadata": {},
   "outputs": [],
   "source": [
    "sample=df.sample(10)"
   ]
  },
  {
   "cell_type": "code",
   "execution_count": 23,
   "id": "65331d08",
   "metadata": {},
   "outputs": [
    {
     "data": {
      "text/html": [
       "<div>\n",
       "<style scoped>\n",
       "    .dataframe tbody tr th:only-of-type {\n",
       "        vertical-align: middle;\n",
       "    }\n",
       "\n",
       "    .dataframe tbody tr th {\n",
       "        vertical-align: top;\n",
       "    }\n",
       "\n",
       "    .dataframe thead th {\n",
       "        text-align: right;\n",
       "    }\n",
       "</style>\n",
       "<table border=\"1\" class=\"dataframe\">\n",
       "  <thead>\n",
       "    <tr style=\"text-align: right;\">\n",
       "      <th></th>\n",
       "      <th>id</th>\n",
       "      <th>dialect</th>\n",
       "      <th>sentence</th>\n",
       "    </tr>\n",
       "  </thead>\n",
       "  <tbody>\n",
       "    <tr>\n",
       "      <th>282732</th>\n",
       "      <td>1068435910226792448</td>\n",
       "      <td>EG</td>\n",
       "      <td>@Egypty2015 اصل يعنى رانيا مش محتاجه حد يقول ا...</td>\n",
       "    </tr>\n",
       "    <tr>\n",
       "      <th>440802</th>\n",
       "      <td>951336971477159936</td>\n",
       "      <td>BH</td>\n",
       "      <td>@m14se @eklasi يبارررك في عممرك مونتي، الله يس...</td>\n",
       "    </tr>\n",
       "    <tr>\n",
       "      <th>392469</th>\n",
       "      <td>1161421459996065792</td>\n",
       "      <td>SD</td>\n",
       "      <td>@mafazelsayed يعني هو ايزي للاولاد برضو 🤔</td>\n",
       "    </tr>\n",
       "    <tr>\n",
       "      <th>384955</th>\n",
       "      <td>539407585510572032</td>\n",
       "      <td>OM</td>\n",
       "      <td>@al_wisal احن الى الجيره ولمة الأهل والجيران ....</td>\n",
       "    </tr>\n",
       "    <tr>\n",
       "      <th>272622</th>\n",
       "      <td>1104909694957731840</td>\n",
       "      <td>EG</td>\n",
       "      <td>@emanazab97 هتعملي نفسك ناسيه كمان 🤨</td>\n",
       "    </tr>\n",
       "    <tr>\n",
       "      <th>446867</th>\n",
       "      <td>1169911679741759488</td>\n",
       "      <td>BH</td>\n",
       "      <td>@FukMicr @fatiimabastaki الغلطة على السائقين ف...</td>\n",
       "    </tr>\n",
       "    <tr>\n",
       "      <th>25048</th>\n",
       "      <td>1153700894707519488</td>\n",
       "      <td>LY</td>\n",
       "      <td>@Moha_Alshawesh في من فرس قبلك يا حميدة منور  ...</td>\n",
       "    </tr>\n",
       "    <tr>\n",
       "      <th>420554</th>\n",
       "      <td>1174387290795380736</td>\n",
       "      <td>AE</td>\n",
       "      <td>@AJArabic على كم هالتغطية يا خونه ؟</td>\n",
       "    </tr>\n",
       "    <tr>\n",
       "      <th>376711</th>\n",
       "      <td>771423164240760832</td>\n",
       "      <td>OM</td>\n",
       "      <td>@saeedfanja89 ما نقدر نحكم الا اذا احد جرب انت...</td>\n",
       "    </tr>\n",
       "    <tr>\n",
       "      <th>378353</th>\n",
       "      <td>1064049516180066432</td>\n",
       "      <td>OM</td>\n",
       "      <td>@a_qtr1976 @007007007KJ @tawaaaash2 @Alreemalq...</td>\n",
       "    </tr>\n",
       "  </tbody>\n",
       "</table>\n",
       "</div>"
      ],
      "text/plain": [
       "                         id dialect  \\\n",
       "282732  1068435910226792448      EG   \n",
       "440802   951336971477159936      BH   \n",
       "392469  1161421459996065792      SD   \n",
       "384955   539407585510572032      OM   \n",
       "272622  1104909694957731840      EG   \n",
       "446867  1169911679741759488      BH   \n",
       "25048   1153700894707519488      LY   \n",
       "420554  1174387290795380736      AE   \n",
       "376711   771423164240760832      OM   \n",
       "378353  1064049516180066432      OM   \n",
       "\n",
       "                                                 sentence  \n",
       "282732  @Egypty2015 اصل يعنى رانيا مش محتاجه حد يقول ا...  \n",
       "440802  @m14se @eklasi يبارررك في عممرك مونتي، الله يس...  \n",
       "392469          @mafazelsayed يعني هو ايزي للاولاد برضو 🤔  \n",
       "384955  @al_wisal احن الى الجيره ولمة الأهل والجيران ....  \n",
       "272622               @emanazab97 هتعملي نفسك ناسيه كمان 🤨  \n",
       "446867  @FukMicr @fatiimabastaki الغلطة على السائقين ف...  \n",
       "25048   @Moha_Alshawesh في من فرس قبلك يا حميدة منور  ...  \n",
       "420554                @AJArabic على كم هالتغطية يا خونه ؟  \n",
       "376711  @saeedfanja89 ما نقدر نحكم الا اذا احد جرب انت...  \n",
       "378353  @a_qtr1976 @007007007KJ @tawaaaash2 @Alreemalq...  "
      ]
     },
     "execution_count": 23,
     "metadata": {},
     "output_type": "execute_result"
    }
   ],
   "source": [
    "sample"
   ]
  },
  {
   "cell_type": "code",
   "execution_count": 25,
   "id": "c9d88730",
   "metadata": {},
   "outputs": [
    {
     "data": {
      "text/plain": [
       "['@Egypty2015 اصل يعنى رانيا مش محتاجه حد يقول انها وحشه و لا تخينه و لا الكلام ده 😂',\n",
       " '@m14se @eklasi يبارررك في عممرك مونتي، الله يسمع منك والفال لك ❤️❤️❤️😍😍',\n",
       " '@mafazelsayed يعني هو ايزي للاولاد برضو 🤔',\n",
       " '@al_wisal احن الى الجيره ولمة الأهل والجيران .. الحين باعد بينهم البنيان .. وصاروا حتى بالمناسبات فقط يتراسلوا واتساب',\n",
       " '@emanazab97 هتعملي نفسك ناسيه كمان 🤨',\n",
       " '@FukMicr @fatiimabastaki الغلطة على السائقين في الخلف، لازم يحطون اعتبار مسافة بين السيارات.....',\n",
       " '@Moha_Alshawesh في من فرس قبلك يا حميدة منور  بارك الله فيك منستغنوش',\n",
       " '@AJArabic على كم هالتغطية يا خونه ؟',\n",
       " '@saeedfanja89 ما نقدر نحكم الا اذا احد جرب انتو روحوا فحصوا وخبرونا',\n",
       " '@a_qtr1976 @007007007KJ @tawaaaash2 @Alreemalqataria @500_somol @Saidh66 @haqtr4 ما عندي بنات🤣🤣\\nبس دام جاي من طرفك ما نبيه 🤣']"
      ]
     },
     "execution_count": 25,
     "metadata": {},
     "output_type": "execute_result"
    }
   ],
   "source": [
    "list(getResponse(sample.id))"
   ]
  },
  {
   "cell_type": "code",
   "execution_count": 29,
   "id": "56eb18d5",
   "metadata": {},
   "outputs": [],
   "source": [
    "df.to_csv(\"dialect_with_sentences.csv\",index=False)"
   ]
  },
  {
   "cell_type": "code",
   "execution_count": 30,
   "id": "83d555b5",
   "metadata": {},
   "outputs": [],
   "source": [
    "df_full=pd.read_csv('dialect_with_sentences.csv')"
   ]
  },
  {
   "cell_type": "code",
   "execution_count": 31,
   "id": "4c6187f9",
   "metadata": {},
   "outputs": [
    {
     "data": {
      "text/html": [
       "<div>\n",
       "<style scoped>\n",
       "    .dataframe tbody tr th:only-of-type {\n",
       "        vertical-align: middle;\n",
       "    }\n",
       "\n",
       "    .dataframe tbody tr th {\n",
       "        vertical-align: top;\n",
       "    }\n",
       "\n",
       "    .dataframe thead th {\n",
       "        text-align: right;\n",
       "    }\n",
       "</style>\n",
       "<table border=\"1\" class=\"dataframe\">\n",
       "  <thead>\n",
       "    <tr style=\"text-align: right;\">\n",
       "      <th></th>\n",
       "      <th>id</th>\n",
       "      <th>dialect</th>\n",
       "      <th>sentence</th>\n",
       "    </tr>\n",
       "  </thead>\n",
       "  <tbody>\n",
       "    <tr>\n",
       "      <th>0</th>\n",
       "      <td>1175358310087892992</td>\n",
       "      <td>IQ</td>\n",
       "      <td>@Nw8ieJUwaCAAreT لكن بالنهاية .. ينتفض .. يغير .</td>\n",
       "    </tr>\n",
       "    <tr>\n",
       "      <th>1</th>\n",
       "      <td>1175416117793349632</td>\n",
       "      <td>IQ</td>\n",
       "      <td>@7zNqXP0yrODdRjK يعني هذا محسوب على البشر .. ح...</td>\n",
       "    </tr>\n",
       "    <tr>\n",
       "      <th>2</th>\n",
       "      <td>1175450108898565888</td>\n",
       "      <td>IQ</td>\n",
       "      <td>@KanaanRema مبين من كلامه خليجي</td>\n",
       "    </tr>\n",
       "    <tr>\n",
       "      <th>3</th>\n",
       "      <td>1175471073770573824</td>\n",
       "      <td>IQ</td>\n",
       "      <td>@HAIDER76128900 يسلملي مرورك وروحك الحلوه💐</td>\n",
       "    </tr>\n",
       "    <tr>\n",
       "      <th>4</th>\n",
       "      <td>1175496913145217024</td>\n",
       "      <td>IQ</td>\n",
       "      <td>@hmo2406 وين هل الغيبه  اخ محمد 🌸🌺</td>\n",
       "    </tr>\n",
       "  </tbody>\n",
       "</table>\n",
       "</div>"
      ],
      "text/plain": [
       "                    id dialect  \\\n",
       "0  1175358310087892992      IQ   \n",
       "1  1175416117793349632      IQ   \n",
       "2  1175450108898565888      IQ   \n",
       "3  1175471073770573824      IQ   \n",
       "4  1175496913145217024      IQ   \n",
       "\n",
       "                                            sentence  \n",
       "0   @Nw8ieJUwaCAAreT لكن بالنهاية .. ينتفض .. يغير .  \n",
       "1  @7zNqXP0yrODdRjK يعني هذا محسوب على البشر .. ح...  \n",
       "2                    @KanaanRema مبين من كلامه خليجي  \n",
       "3         @HAIDER76128900 يسلملي مرورك وروحك الحلوه💐  \n",
       "4                 @hmo2406 وين هل الغيبه  اخ محمد 🌸🌺  "
      ]
     },
     "execution_count": 31,
     "metadata": {},
     "output_type": "execute_result"
    }
   ],
   "source": [
    "df_full.head()"
   ]
  },
  {
   "cell_type": "code",
   "execution_count": null,
   "id": "62a78322",
   "metadata": {},
   "outputs": [],
   "source": []
  }
 ],
 "metadata": {
  "kernelspec": {
   "display_name": "Python 3 (ipykernel)",
   "language": "python",
   "name": "python3"
  },
  "language_info": {
   "codemirror_mode": {
    "name": "ipython",
    "version": 3
   },
   "file_extension": ".py",
   "mimetype": "text/x-python",
   "name": "python",
   "nbconvert_exporter": "python",
   "pygments_lexer": "ipython3",
   "version": "3.8.8"
  }
 },
 "nbformat": 4,
 "nbformat_minor": 5
}
